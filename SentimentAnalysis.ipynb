{
 "cells": [
  {
   "cell_type": "markdown",
   "metadata": {},
   "source": [
    "# Sentiment analysis \n",
    "\n"
   ]
  },
  {
   "cell_type": "markdown",
   "metadata": {},
   "source": [
    "### Load necessary libraries"
   ]
  },
  {
   "cell_type": "code",
   "execution_count": 1,
   "metadata": {},
   "outputs": [
    {
     "name": "stderr",
     "output_type": "stream",
     "text": [
      "[nltk_data] Downloading package punkt to /home/sagemaker-\n",
      "[nltk_data]     user/nltk_data...\n",
      "[nltk_data]   Package punkt is already up-to-date!\n"
     ]
    }
   ],
   "source": [
    "# import necessary libraries\n",
    "import boto3\n",
    "#!pip install nltk\n",
    "import nltk\n",
    "nltk.download('punkt')\n",
    "import pandas as pd\n",
    "import os"
   ]
  },
  {
   "cell_type": "markdown",
   "metadata": {},
   "source": [
    "### Load the input file from S3"
   ]
  },
  {
   "cell_type": "code",
   "execution_count": 2,
   "metadata": {},
   "outputs": [],
   "source": [
    "\"\"\"Accessing the S3 buckets using boto3 client\"\"\"\n",
    "s3_client =boto3.client('s3')\n",
    "s3_bucket_name='jpg-sentimentanalysis'\n",
    "key_name = 'Twitter_Data.csv'\n",
    "\n",
    "# Data taken from https://www.kaggle.com/cosmos98/twitter-and-reddit-sentimental-analysis-dataset?select=Twitter_Data.csv"
   ]
  },
  {
   "cell_type": "code",
   "execution_count": 13,
   "metadata": {},
   "outputs": [
    {
     "data": {
      "text/html": [
       "<div>\n",
       "<style scoped>\n",
       "    .dataframe tbody tr th:only-of-type {\n",
       "        vertical-align: middle;\n",
       "    }\n",
       "\n",
       "    .dataframe tbody tr th {\n",
       "        vertical-align: top;\n",
       "    }\n",
       "\n",
       "    .dataframe thead th {\n",
       "        text-align: right;\n",
       "    }\n",
       "</style>\n",
       "<table border=\"1\" class=\"dataframe\">\n",
       "  <thead>\n",
       "    <tr style=\"text-align: right;\">\n",
       "      <th></th>\n",
       "      <th>clean_text</th>\n",
       "      <th>category</th>\n",
       "    </tr>\n",
       "  </thead>\n",
       "  <tbody>\n",
       "    <tr>\n",
       "      <th>0</th>\n",
       "      <td>when modi promised “minimum government maximum...</td>\n",
       "      <td>-1</td>\n",
       "    </tr>\n",
       "    <tr>\n",
       "      <th>1</th>\n",
       "      <td>talk all the nonsense and continue all the dra...</td>\n",
       "      <td>0</td>\n",
       "    </tr>\n",
       "    <tr>\n",
       "      <th>2</th>\n",
       "      <td>what did just say vote for modi  welcome bjp t...</td>\n",
       "      <td>1</td>\n",
       "    </tr>\n",
       "    <tr>\n",
       "      <th>3</th>\n",
       "      <td>asking his supporters prefix chowkidar their n...</td>\n",
       "      <td>1</td>\n",
       "    </tr>\n",
       "    <tr>\n",
       "      <th>4</th>\n",
       "      <td>answer who among these the most powerful world...</td>\n",
       "      <td>1</td>\n",
       "    </tr>\n",
       "  </tbody>\n",
       "</table>\n",
       "</div>"
      ],
      "text/plain": [
       "                                          clean_text  category\n",
       "0  when modi promised “minimum government maximum...        -1\n",
       "1  talk all the nonsense and continue all the dra...         0\n",
       "2  what did just say vote for modi  welcome bjp t...         1\n",
       "3  asking his supporters prefix chowkidar their n...         1\n",
       "4  answer who among these the most powerful world...         1"
      ]
     },
     "execution_count": 13,
     "metadata": {},
     "output_type": "execute_result"
    }
   ],
   "source": [
    "# Create the S3 object\n",
    "obj = s3_client.get_object(\n",
    "    Bucket = s3_bucket_name,\n",
    "    Key = key_name\n",
    ")\n",
    "    \n",
    "# Read data from the S3 object\n",
    "df = pd.read_csv(obj['Body'], nrows=10)\n",
    "df.head()  "
   ]
  },
  {
   "cell_type": "markdown",
   "metadata": {},
   "source": [
    "### Prepare the file"
   ]
  },
  {
   "cell_type": "code",
   "execution_count": 47,
   "metadata": {},
   "outputs": [
    {
     "data": {
      "text/html": [
       "<div>\n",
       "<style scoped>\n",
       "    .dataframe tbody tr th:only-of-type {\n",
       "        vertical-align: middle;\n",
       "    }\n",
       "\n",
       "    .dataframe tbody tr th {\n",
       "        vertical-align: top;\n",
       "    }\n",
       "\n",
       "    .dataframe thead th {\n",
       "        text-align: right;\n",
       "    }\n",
       "</style>\n",
       "<table border=\"1\" class=\"dataframe\">\n",
       "  <thead>\n",
       "    <tr style=\"text-align: right;\">\n",
       "      <th></th>\n",
       "      <th>clean_text</th>\n",
       "      <th>category</th>\n",
       "    </tr>\n",
       "  </thead>\n",
       "  <tbody>\n",
       "    <tr>\n",
       "      <th>1</th>\n",
       "      <td>talk all the nonsense and continue all the dra...</td>\n",
       "      <td>0</td>\n",
       "    </tr>\n",
       "    <tr>\n",
       "      <th>2</th>\n",
       "      <td>what did just say vote for modi  welcome bjp t...</td>\n",
       "      <td>1</td>\n",
       "    </tr>\n",
       "    <tr>\n",
       "      <th>3</th>\n",
       "      <td>asking his supporters prefix chowkidar their n...</td>\n",
       "      <td>1</td>\n",
       "    </tr>\n",
       "    <tr>\n",
       "      <th>4</th>\n",
       "      <td>answer who among these the most powerful world...</td>\n",
       "      <td>1</td>\n",
       "    </tr>\n",
       "    <tr>\n",
       "      <th>5</th>\n",
       "      <td>kiya tho refresh maarkefir comment karo</td>\n",
       "      <td>0</td>\n",
       "    </tr>\n",
       "    <tr>\n",
       "      <th>6</th>\n",
       "      <td>surat women perform yagna seeks divine grace f...</td>\n",
       "      <td>0</td>\n",
       "    </tr>\n",
       "    <tr>\n",
       "      <th>7</th>\n",
       "      <td>this comes from cabinet which has scholars lik...</td>\n",
       "      <td>0</td>\n",
       "    </tr>\n",
       "    <tr>\n",
       "      <th>8</th>\n",
       "      <td>with upcoming election india saga going import...</td>\n",
       "      <td>1</td>\n",
       "    </tr>\n",
       "    <tr>\n",
       "      <th>9</th>\n",
       "      <td>gandhi was gay does modi</td>\n",
       "      <td>1</td>\n",
       "    </tr>\n",
       "  </tbody>\n",
       "</table>\n",
       "</div>"
      ],
      "text/plain": [
       "                                          clean_text  category\n",
       "1  talk all the nonsense and continue all the dra...         0\n",
       "2  what did just say vote for modi  welcome bjp t...         1\n",
       "3  asking his supporters prefix chowkidar their n...         1\n",
       "4  answer who among these the most powerful world...         1\n",
       "5           kiya tho refresh maarkefir comment karo          0\n",
       "6  surat women perform yagna seeks divine grace f...         0\n",
       "7  this comes from cabinet which has scholars lik...         0\n",
       "8  with upcoming election india saga going import...         1\n",
       "9                         gandhi was gay does modi           1"
      ]
     },
     "execution_count": 47,
     "metadata": {},
     "output_type": "execute_result"
    }
   ],
   "source": [
    "# drop rows with NAs\n",
    "df_nona = df.dropna()\n",
    "\n",
    "# drop rows with category -1\n",
    "df = df[df.category != -1]\n",
    "\n",
    "df.tail(10)"
   ]
  },
  {
   "cell_type": "code",
   "execution_count": 48,
   "metadata": {},
   "outputs": [
    {
     "data": {
      "text/plain": [
       "(9, 2)"
      ]
     },
     "execution_count": 48,
     "metadata": {},
     "output_type": "execute_result"
    }
   ],
   "source": [
    "df.shape"
   ]
  },
  {
   "cell_type": "markdown",
   "metadata": {},
   "source": [
    "### Initialise the AWS comprehend module"
   ]
  },
  {
   "cell_type": "code",
   "execution_count": 29,
   "metadata": {},
   "outputs": [],
   "source": [
    "#initialize comprehend module\n",
    "comprehend = boto3.client(service_name='comprehend', region_name='eu-west-1')"
   ]
  },
  {
   "cell_type": "markdown",
   "metadata": {},
   "source": [
    "#### Test comprehend sentiment detector"
   ]
  },
  {
   "cell_type": "code",
   "execution_count": 49,
   "metadata": {},
   "outputs": [
    {
     "data": {
      "text/plain": [
       "{'Sentiment': 'POSITIVE',\n",
       " 'SentimentScore': {'Positive': 0.9997196793556213,\n",
       "  'Negative': 0.00011877580982400104,\n",
       "  'Neutral': 0.0001478759804740548,\n",
       "  'Mixed': 1.362422790407436e-05},\n",
       " 'ResponseMetadata': {'RequestId': '34aae987-2b7a-4da5-8391-e0be74ca20ad',\n",
       "  'HTTPStatusCode': 200,\n",
       "  'HTTPHeaders': {'x-amzn-requestid': '34aae987-2b7a-4da5-8391-e0be74ca20ad',\n",
       "   'content-type': 'application/x-amz-json-1.1',\n",
       "   'content-length': '166',\n",
       "   'date': 'Fri, 23 Jul 2021 07:54:27 GMT'},\n",
       "  'RetryAttempts': 0}}"
      ]
     },
     "execution_count": 49,
     "metadata": {},
     "output_type": "execute_result"
    }
   ],
   "source": [
    "#comprehend.detect_sentiment(Text='A Happy life', LanguageCode='en')\n",
    "\n",
    "comprehend.detect_sentiment(Text='Enhorabuena', LanguageCode='es')"
   ]
  },
  {
   "cell_type": "markdown",
   "metadata": {},
   "source": [
    "### Create a function to get the sentiment"
   ]
  },
  {
   "cell_type": "code",
   "execution_count": 53,
   "metadata": {},
   "outputs": [],
   "source": [
    "def get_sentiment(tweets_df):\n",
    "        \n",
    "    dfsent = pd.DataFrame(columns=['tweet','category','sentiment','score_pos','score_neg','score_mxd','score_ntrl'])\n",
    "\n",
    "    index = 0\n",
    "    for i, row in tweets_df.iterrows(): # each row of the datframe contains a section at the required level of granularity\n",
    "\n",
    "        # get the document, section name for reporting back the flagged sentence\n",
    "        dfsent.loc[index,'tweet'] = row['clean_text']\n",
    "        dfsent.loc[index,'category'] = row['category']\n",
    "        sentence = row['clean_text']\n",
    "       \n",
    "        # call AWS comprehend for sentiment prediction\n",
    "        senti_response = comprehend.detect_sentiment(Text=sentence, LanguageCode='en')\n",
    "\n",
    "        # parse the json response\n",
    "        dfsent.loc[index,'sentiment'] = (senti_response['Sentiment'])\n",
    "        dfsent.loc[index,'score_pos'] = (senti_response['SentimentScore']['Positive'])\n",
    "        dfsent.loc[index,'score_neg'] = (senti_response['SentimentScore']['Negative'])\n",
    "        dfsent.loc[index,'score_ntrl'] = (senti_response['SentimentScore']['Neutral'])\n",
    "        dfsent.loc[index,'score_mxd'] = (senti_response['SentimentScore']['Mixed'])\n",
    "        #sentiment_per_sentence.append(senti)\n",
    "        index = index + 1      \n",
    "\n",
    "    return(dfsent)"
   ]
  },
  {
   "cell_type": "markdown",
   "metadata": {},
   "source": [
    "### Get the sentiment"
   ]
  },
  {
   "cell_type": "code",
   "execution_count": 54,
   "metadata": {},
   "outputs": [],
   "source": [
    "results = pd.DataFrame()\n",
    "results = get_sentiment(df)"
   ]
  },
  {
   "cell_type": "code",
   "execution_count": 55,
   "metadata": {},
   "outputs": [
    {
     "data": {
      "text/html": [
       "<div>\n",
       "<style scoped>\n",
       "    .dataframe tbody tr th:only-of-type {\n",
       "        vertical-align: middle;\n",
       "    }\n",
       "\n",
       "    .dataframe tbody tr th {\n",
       "        vertical-align: top;\n",
       "    }\n",
       "\n",
       "    .dataframe thead th {\n",
       "        text-align: right;\n",
       "    }\n",
       "</style>\n",
       "<table border=\"1\" class=\"dataframe\">\n",
       "  <thead>\n",
       "    <tr style=\"text-align: right;\">\n",
       "      <th></th>\n",
       "      <th>tweet</th>\n",
       "      <th>category</th>\n",
       "      <th>sentiment</th>\n",
       "      <th>score_pos</th>\n",
       "      <th>score_neg</th>\n",
       "      <th>score_mxd</th>\n",
       "      <th>score_ntrl</th>\n",
       "    </tr>\n",
       "  </thead>\n",
       "  <tbody>\n",
       "    <tr>\n",
       "      <th>0</th>\n",
       "      <td>talk all the nonsense and continue all the dra...</td>\n",
       "      <td>0</td>\n",
       "      <td>NEGATIVE</td>\n",
       "      <td>0.019644</td>\n",
       "      <td>0.670815</td>\n",
       "      <td>0.029622</td>\n",
       "      <td>0.279919</td>\n",
       "    </tr>\n",
       "    <tr>\n",
       "      <th>1</th>\n",
       "      <td>what did just say vote for modi  welcome bjp t...</td>\n",
       "      <td>1</td>\n",
       "      <td>NEUTRAL</td>\n",
       "      <td>0.028299</td>\n",
       "      <td>0.027591</td>\n",
       "      <td>0.001225</td>\n",
       "      <td>0.942885</td>\n",
       "    </tr>\n",
       "    <tr>\n",
       "      <th>2</th>\n",
       "      <td>asking his supporters prefix chowkidar their n...</td>\n",
       "      <td>1</td>\n",
       "      <td>MIXED</td>\n",
       "      <td>0.015248</td>\n",
       "      <td>0.175266</td>\n",
       "      <td>0.772895</td>\n",
       "      <td>0.036591</td>\n",
       "    </tr>\n",
       "    <tr>\n",
       "      <th>3</th>\n",
       "      <td>answer who among these the most powerful world...</td>\n",
       "      <td>1</td>\n",
       "      <td>NEUTRAL</td>\n",
       "      <td>0.161099</td>\n",
       "      <td>0.149261</td>\n",
       "      <td>0.098815</td>\n",
       "      <td>0.590826</td>\n",
       "    </tr>\n",
       "    <tr>\n",
       "      <th>4</th>\n",
       "      <td>kiya tho refresh maarkefir comment karo</td>\n",
       "      <td>0</td>\n",
       "      <td>NEUTRAL</td>\n",
       "      <td>0.002847</td>\n",
       "      <td>0.025781</td>\n",
       "      <td>0.000012</td>\n",
       "      <td>0.97136</td>\n",
       "    </tr>\n",
       "    <tr>\n",
       "      <th>5</th>\n",
       "      <td>surat women perform yagna seeks divine grace f...</td>\n",
       "      <td>0</td>\n",
       "      <td>NEUTRAL</td>\n",
       "      <td>0.260554</td>\n",
       "      <td>0.011546</td>\n",
       "      <td>0.005131</td>\n",
       "      <td>0.722768</td>\n",
       "    </tr>\n",
       "    <tr>\n",
       "      <th>6</th>\n",
       "      <td>this comes from cabinet which has scholars lik...</td>\n",
       "      <td>0</td>\n",
       "      <td>NEUTRAL</td>\n",
       "      <td>0.095931</td>\n",
       "      <td>0.193855</td>\n",
       "      <td>0.047301</td>\n",
       "      <td>0.662914</td>\n",
       "    </tr>\n",
       "    <tr>\n",
       "      <th>7</th>\n",
       "      <td>with upcoming election india saga going import...</td>\n",
       "      <td>1</td>\n",
       "      <td>NEUTRAL</td>\n",
       "      <td>0.03936</td>\n",
       "      <td>0.040302</td>\n",
       "      <td>0.002582</td>\n",
       "      <td>0.917755</td>\n",
       "    </tr>\n",
       "    <tr>\n",
       "      <th>8</th>\n",
       "      <td>gandhi was gay does modi</td>\n",
       "      <td>1</td>\n",
       "      <td>NEUTRAL</td>\n",
       "      <td>0.160447</td>\n",
       "      <td>0.053508</td>\n",
       "      <td>0.000785</td>\n",
       "      <td>0.785261</td>\n",
       "    </tr>\n",
       "  </tbody>\n",
       "</table>\n",
       "</div>"
      ],
      "text/plain": [
       "                                               tweet category sentiment  \\\n",
       "0  talk all the nonsense and continue all the dra...        0  NEGATIVE   \n",
       "1  what did just say vote for modi  welcome bjp t...        1   NEUTRAL   \n",
       "2  asking his supporters prefix chowkidar their n...        1     MIXED   \n",
       "3  answer who among these the most powerful world...        1   NEUTRAL   \n",
       "4           kiya tho refresh maarkefir comment karo         0   NEUTRAL   \n",
       "5  surat women perform yagna seeks divine grace f...        0   NEUTRAL   \n",
       "6  this comes from cabinet which has scholars lik...        0   NEUTRAL   \n",
       "7  with upcoming election india saga going import...        1   NEUTRAL   \n",
       "8                         gandhi was gay does modi          1   NEUTRAL   \n",
       "\n",
       "  score_pos score_neg score_mxd score_ntrl  \n",
       "0  0.019644  0.670815  0.029622   0.279919  \n",
       "1  0.028299  0.027591  0.001225   0.942885  \n",
       "2  0.015248  0.175266  0.772895   0.036591  \n",
       "3  0.161099  0.149261  0.098815   0.590826  \n",
       "4  0.002847  0.025781  0.000012    0.97136  \n",
       "5  0.260554  0.011546  0.005131   0.722768  \n",
       "6  0.095931  0.193855  0.047301   0.662914  \n",
       "7   0.03936  0.040302  0.002582   0.917755  \n",
       "8  0.160447  0.053508  0.000785   0.785261  "
      ]
     },
     "execution_count": 55,
     "metadata": {},
     "output_type": "execute_result"
    }
   ],
   "source": [
    "results.head()"
   ]
  }
 ],
 "metadata": {
  "instance_type": "ml.t3.medium",
  "kernelspec": {
   "display_name": "Python 3 (SageMaker JumpStart Data Science 1.0)",
   "language": "python",
   "name": "python3__SAGEMAKER_INTERNAL__arn:aws:sagemaker:eu-west-1:724265385110:image/sagemaker-jumpstart-data-science-1.0"
  },
  "language_info": {
   "codemirror_mode": {
    "name": "ipython",
    "version": 3
   },
   "file_extension": ".py",
   "mimetype": "text/x-python",
   "name": "python",
   "nbconvert_exporter": "python",
   "pygments_lexer": "ipython3",
   "version": "3.7.10"
  }
 },
 "nbformat": 4,
 "nbformat_minor": 4
}
